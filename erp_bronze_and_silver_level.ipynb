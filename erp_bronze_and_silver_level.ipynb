{
 "cells": [
  {
   "cell_type": "code",
   "execution_count": 3,
   "id": "0252f665-3303-4518-af0e-da36b3421bcb",
   "metadata": {},
   "outputs": [],
   "source": [
    "import pandas as pd \n",
    "import warnings\n",
    "warnings.simplefilter(action='ignore', category=FutureWarning)"
   ]
  },
  {
   "cell_type": "code",
   "execution_count": 4,
   "id": "ca3ebf4f-aeee-473d-b36a-179531ae8f36",
   "metadata": {},
   "outputs": [
    {
     "ename": "FileNotFoundError",
     "evalue": "[Errno 2] No such file or directory: 'datasets/source_erp/CUST_AZ12.csv'",
     "output_type": "error",
     "traceback": [
      "\u001b[1;31m---------------------------------------------------------------------------\u001b[0m",
      "\u001b[1;31mFileNotFoundError\u001b[0m                         Traceback (most recent call last)",
      "Cell \u001b[1;32mIn[4], line 6\u001b[0m\n\u001b[0;32m      1\u001b[0m \u001b[38;5;66;03m#------------------ BRONZE LEVEL ------------------------#\u001b[39;00m\n\u001b[0;32m      2\u001b[0m \n\u001b[0;32m      3\u001b[0m \u001b[38;5;66;03m# RAW DATA TO DATA FRAME ( THIS FILES FROM ERP DATASETS )\u001b[39;00m\n\u001b[0;32m      4\u001b[0m \n\u001b[0;32m      5\u001b[0m \u001b[38;5;66;03m# CUSTOMER EXTRA INFORMATION ( BIRTH_DATE )\u001b[39;00m\n\u001b[1;32m----> 6\u001b[0m bronze_customer_birth_date \u001b[38;5;241m=\u001b[39m pd\u001b[38;5;241m.\u001b[39mread_csv(\u001b[38;5;124m'\u001b[39m\u001b[38;5;124mdatasets/source_erp/CUST_AZ12.csv\u001b[39m\u001b[38;5;124m'\u001b[39m)\n\u001b[0;32m      7\u001b[0m \u001b[38;5;66;03m#bronze_customer_birth_date\u001b[39;00m\n\u001b[0;32m      8\u001b[0m \n\u001b[0;32m      9\u001b[0m \u001b[38;5;66;03m# CUSTOMER EXTRA INFORMATION ( LOCATION )\u001b[39;00m\n\u001b[0;32m     11\u001b[0m bronze_customer_location \u001b[38;5;241m=\u001b[39m pd\u001b[38;5;241m.\u001b[39mread_csv(\u001b[38;5;124m'\u001b[39m\u001b[38;5;124mdatasets/source_erp/LOC_A101.csv\u001b[39m\u001b[38;5;124m'\u001b[39m)\n",
      "File \u001b[1;32m~\\anaconda3\\Lib\\site-packages\\pandas\\io\\parsers\\readers.py:1026\u001b[0m, in \u001b[0;36mread_csv\u001b[1;34m(filepath_or_buffer, sep, delimiter, header, names, index_col, usecols, dtype, engine, converters, true_values, false_values, skipinitialspace, skiprows, skipfooter, nrows, na_values, keep_default_na, na_filter, verbose, skip_blank_lines, parse_dates, infer_datetime_format, keep_date_col, date_parser, date_format, dayfirst, cache_dates, iterator, chunksize, compression, thousands, decimal, lineterminator, quotechar, quoting, doublequote, escapechar, comment, encoding, encoding_errors, dialect, on_bad_lines, delim_whitespace, low_memory, memory_map, float_precision, storage_options, dtype_backend)\u001b[0m\n\u001b[0;32m   1013\u001b[0m kwds_defaults \u001b[38;5;241m=\u001b[39m _refine_defaults_read(\n\u001b[0;32m   1014\u001b[0m     dialect,\n\u001b[0;32m   1015\u001b[0m     delimiter,\n\u001b[1;32m   (...)\u001b[0m\n\u001b[0;32m   1022\u001b[0m     dtype_backend\u001b[38;5;241m=\u001b[39mdtype_backend,\n\u001b[0;32m   1023\u001b[0m )\n\u001b[0;32m   1024\u001b[0m kwds\u001b[38;5;241m.\u001b[39mupdate(kwds_defaults)\n\u001b[1;32m-> 1026\u001b[0m \u001b[38;5;28;01mreturn\u001b[39;00m _read(filepath_or_buffer, kwds)\n",
      "File \u001b[1;32m~\\anaconda3\\Lib\\site-packages\\pandas\\io\\parsers\\readers.py:620\u001b[0m, in \u001b[0;36m_read\u001b[1;34m(filepath_or_buffer, kwds)\u001b[0m\n\u001b[0;32m    617\u001b[0m _validate_names(kwds\u001b[38;5;241m.\u001b[39mget(\u001b[38;5;124m\"\u001b[39m\u001b[38;5;124mnames\u001b[39m\u001b[38;5;124m\"\u001b[39m, \u001b[38;5;28;01mNone\u001b[39;00m))\n\u001b[0;32m    619\u001b[0m \u001b[38;5;66;03m# Create the parser.\u001b[39;00m\n\u001b[1;32m--> 620\u001b[0m parser \u001b[38;5;241m=\u001b[39m TextFileReader(filepath_or_buffer, \u001b[38;5;241m*\u001b[39m\u001b[38;5;241m*\u001b[39mkwds)\n\u001b[0;32m    622\u001b[0m \u001b[38;5;28;01mif\u001b[39;00m chunksize \u001b[38;5;129;01mor\u001b[39;00m iterator:\n\u001b[0;32m    623\u001b[0m     \u001b[38;5;28;01mreturn\u001b[39;00m parser\n",
      "File \u001b[1;32m~\\anaconda3\\Lib\\site-packages\\pandas\\io\\parsers\\readers.py:1620\u001b[0m, in \u001b[0;36mTextFileReader.__init__\u001b[1;34m(self, f, engine, **kwds)\u001b[0m\n\u001b[0;32m   1617\u001b[0m     \u001b[38;5;28mself\u001b[39m\u001b[38;5;241m.\u001b[39moptions[\u001b[38;5;124m\"\u001b[39m\u001b[38;5;124mhas_index_names\u001b[39m\u001b[38;5;124m\"\u001b[39m] \u001b[38;5;241m=\u001b[39m kwds[\u001b[38;5;124m\"\u001b[39m\u001b[38;5;124mhas_index_names\u001b[39m\u001b[38;5;124m\"\u001b[39m]\n\u001b[0;32m   1619\u001b[0m \u001b[38;5;28mself\u001b[39m\u001b[38;5;241m.\u001b[39mhandles: IOHandles \u001b[38;5;241m|\u001b[39m \u001b[38;5;28;01mNone\u001b[39;00m \u001b[38;5;241m=\u001b[39m \u001b[38;5;28;01mNone\u001b[39;00m\n\u001b[1;32m-> 1620\u001b[0m \u001b[38;5;28mself\u001b[39m\u001b[38;5;241m.\u001b[39m_engine \u001b[38;5;241m=\u001b[39m \u001b[38;5;28mself\u001b[39m\u001b[38;5;241m.\u001b[39m_make_engine(f, \u001b[38;5;28mself\u001b[39m\u001b[38;5;241m.\u001b[39mengine)\n",
      "File \u001b[1;32m~\\anaconda3\\Lib\\site-packages\\pandas\\io\\parsers\\readers.py:1880\u001b[0m, in \u001b[0;36mTextFileReader._make_engine\u001b[1;34m(self, f, engine)\u001b[0m\n\u001b[0;32m   1878\u001b[0m     \u001b[38;5;28;01mif\u001b[39;00m \u001b[38;5;124m\"\u001b[39m\u001b[38;5;124mb\u001b[39m\u001b[38;5;124m\"\u001b[39m \u001b[38;5;129;01mnot\u001b[39;00m \u001b[38;5;129;01min\u001b[39;00m mode:\n\u001b[0;32m   1879\u001b[0m         mode \u001b[38;5;241m+\u001b[39m\u001b[38;5;241m=\u001b[39m \u001b[38;5;124m\"\u001b[39m\u001b[38;5;124mb\u001b[39m\u001b[38;5;124m\"\u001b[39m\n\u001b[1;32m-> 1880\u001b[0m \u001b[38;5;28mself\u001b[39m\u001b[38;5;241m.\u001b[39mhandles \u001b[38;5;241m=\u001b[39m get_handle(\n\u001b[0;32m   1881\u001b[0m     f,\n\u001b[0;32m   1882\u001b[0m     mode,\n\u001b[0;32m   1883\u001b[0m     encoding\u001b[38;5;241m=\u001b[39m\u001b[38;5;28mself\u001b[39m\u001b[38;5;241m.\u001b[39moptions\u001b[38;5;241m.\u001b[39mget(\u001b[38;5;124m\"\u001b[39m\u001b[38;5;124mencoding\u001b[39m\u001b[38;5;124m\"\u001b[39m, \u001b[38;5;28;01mNone\u001b[39;00m),\n\u001b[0;32m   1884\u001b[0m     compression\u001b[38;5;241m=\u001b[39m\u001b[38;5;28mself\u001b[39m\u001b[38;5;241m.\u001b[39moptions\u001b[38;5;241m.\u001b[39mget(\u001b[38;5;124m\"\u001b[39m\u001b[38;5;124mcompression\u001b[39m\u001b[38;5;124m\"\u001b[39m, \u001b[38;5;28;01mNone\u001b[39;00m),\n\u001b[0;32m   1885\u001b[0m     memory_map\u001b[38;5;241m=\u001b[39m\u001b[38;5;28mself\u001b[39m\u001b[38;5;241m.\u001b[39moptions\u001b[38;5;241m.\u001b[39mget(\u001b[38;5;124m\"\u001b[39m\u001b[38;5;124mmemory_map\u001b[39m\u001b[38;5;124m\"\u001b[39m, \u001b[38;5;28;01mFalse\u001b[39;00m),\n\u001b[0;32m   1886\u001b[0m     is_text\u001b[38;5;241m=\u001b[39mis_text,\n\u001b[0;32m   1887\u001b[0m     errors\u001b[38;5;241m=\u001b[39m\u001b[38;5;28mself\u001b[39m\u001b[38;5;241m.\u001b[39moptions\u001b[38;5;241m.\u001b[39mget(\u001b[38;5;124m\"\u001b[39m\u001b[38;5;124mencoding_errors\u001b[39m\u001b[38;5;124m\"\u001b[39m, \u001b[38;5;124m\"\u001b[39m\u001b[38;5;124mstrict\u001b[39m\u001b[38;5;124m\"\u001b[39m),\n\u001b[0;32m   1888\u001b[0m     storage_options\u001b[38;5;241m=\u001b[39m\u001b[38;5;28mself\u001b[39m\u001b[38;5;241m.\u001b[39moptions\u001b[38;5;241m.\u001b[39mget(\u001b[38;5;124m\"\u001b[39m\u001b[38;5;124mstorage_options\u001b[39m\u001b[38;5;124m\"\u001b[39m, \u001b[38;5;28;01mNone\u001b[39;00m),\n\u001b[0;32m   1889\u001b[0m )\n\u001b[0;32m   1890\u001b[0m \u001b[38;5;28;01massert\u001b[39;00m \u001b[38;5;28mself\u001b[39m\u001b[38;5;241m.\u001b[39mhandles \u001b[38;5;129;01mis\u001b[39;00m \u001b[38;5;129;01mnot\u001b[39;00m \u001b[38;5;28;01mNone\u001b[39;00m\n\u001b[0;32m   1891\u001b[0m f \u001b[38;5;241m=\u001b[39m \u001b[38;5;28mself\u001b[39m\u001b[38;5;241m.\u001b[39mhandles\u001b[38;5;241m.\u001b[39mhandle\n",
      "File \u001b[1;32m~\\anaconda3\\Lib\\site-packages\\pandas\\io\\common.py:873\u001b[0m, in \u001b[0;36mget_handle\u001b[1;34m(path_or_buf, mode, encoding, compression, memory_map, is_text, errors, storage_options)\u001b[0m\n\u001b[0;32m    868\u001b[0m \u001b[38;5;28;01melif\u001b[39;00m \u001b[38;5;28misinstance\u001b[39m(handle, \u001b[38;5;28mstr\u001b[39m):\n\u001b[0;32m    869\u001b[0m     \u001b[38;5;66;03m# Check whether the filename is to be opened in binary mode.\u001b[39;00m\n\u001b[0;32m    870\u001b[0m     \u001b[38;5;66;03m# Binary mode does not support 'encoding' and 'newline'.\u001b[39;00m\n\u001b[0;32m    871\u001b[0m     \u001b[38;5;28;01mif\u001b[39;00m ioargs\u001b[38;5;241m.\u001b[39mencoding \u001b[38;5;129;01mand\u001b[39;00m \u001b[38;5;124m\"\u001b[39m\u001b[38;5;124mb\u001b[39m\u001b[38;5;124m\"\u001b[39m \u001b[38;5;129;01mnot\u001b[39;00m \u001b[38;5;129;01min\u001b[39;00m ioargs\u001b[38;5;241m.\u001b[39mmode:\n\u001b[0;32m    872\u001b[0m         \u001b[38;5;66;03m# Encoding\u001b[39;00m\n\u001b[1;32m--> 873\u001b[0m         handle \u001b[38;5;241m=\u001b[39m \u001b[38;5;28mopen\u001b[39m(\n\u001b[0;32m    874\u001b[0m             handle,\n\u001b[0;32m    875\u001b[0m             ioargs\u001b[38;5;241m.\u001b[39mmode,\n\u001b[0;32m    876\u001b[0m             encoding\u001b[38;5;241m=\u001b[39mioargs\u001b[38;5;241m.\u001b[39mencoding,\n\u001b[0;32m    877\u001b[0m             errors\u001b[38;5;241m=\u001b[39merrors,\n\u001b[0;32m    878\u001b[0m             newline\u001b[38;5;241m=\u001b[39m\u001b[38;5;124m\"\u001b[39m\u001b[38;5;124m\"\u001b[39m,\n\u001b[0;32m    879\u001b[0m         )\n\u001b[0;32m    880\u001b[0m     \u001b[38;5;28;01melse\u001b[39;00m:\n\u001b[0;32m    881\u001b[0m         \u001b[38;5;66;03m# Binary mode\u001b[39;00m\n\u001b[0;32m    882\u001b[0m         handle \u001b[38;5;241m=\u001b[39m \u001b[38;5;28mopen\u001b[39m(handle, ioargs\u001b[38;5;241m.\u001b[39mmode)\n",
      "\u001b[1;31mFileNotFoundError\u001b[0m: [Errno 2] No such file or directory: 'datasets/source_erp/CUST_AZ12.csv'"
     ]
    }
   ],
   "source": [
    "#------------------ BRONZE LEVEL ------------------------#\n",
    "\n",
    "# RAW DATA TO DATA FRAME ( THIS FILES FROM ERP DATASETS )\n",
    "\n",
    "# CUSTOMER EXTRA INFORMATION ( BIRTH_DATE )\n",
    "bronze_customer_birth_date = pd.read_csv('datasets/source_erp/CUST_AZ12.csv')\n",
    "#bronze_customer_birth_date\n",
    "\n",
    "# CUSTOMER EXTRA INFORMATION ( LOCATION )\n",
    "\n",
    "bronze_customer_location = pd.read_csv('datasets/source_erp/LOC_A101.csv')\n",
    "\n",
    "# PRODUCT CATEGORY\n",
    "\n",
    "bronze_product_category = pd.read_csv('datasets/source_erp/PX_CAT_G1V2.csv')\n",
    "\n",
    "#bronze_product_category \n",
    "\n",
    "# ---------- BRONZE LEVEL DONE ---------------- #"
   ]
  },
  {
   "cell_type": "markdown",
   "id": "08e1e442-4a43-472c-b2af-b4511c4e1d19",
   "metadata": {},
   "source": [
    "DATA TRANSFORMATION\n",
    "- DATA CLEANING\n",
    "- REMOVE AND REPLACE ALL NULL VALUES\n",
    "- MODIFY COLUMNS NAME ( FOR READABLITY )\n",
    "- READY THE DATA INTO SILVER LEVEL\n",
    "  "
   ]
  },
  {
   "cell_type": "code",
   "execution_count": null,
   "id": "4c8b4443-0e63-4d56-8426-880be4b7157b",
   "metadata": {},
   "outputs": [],
   "source": [
    "# ------------------------- DATA TRANSFORMATION ( bronze_customer_birth_date ) ---------------------------- #\n",
    "bronze_customer_birth_date.dtypes\n",
    "# CID      object\n",
    "# BDATE    object\n",
    "# GEN      object\n",
    "# dtype: object\n",
    "\n",
    "\n",
    "# FILL NAN VALUES AND REPLACE INTO 'N/A' VALUES\n",
    "bronze_customer_birth_date.fillna('N/A',inplace=True)\n",
    "\n",
    "\n",
    "# CONVERT BDATE TO DATETIME DATA TYPES\n",
    "bronze_customer_birth_date['BDATE'] = pd.to_datetime(bronze_customer_birth_date['BDATE'],errors='coerce')\n",
    "bronze_customer_birth_date[bronze_customer_birth_date['BDATE'].isnull()]\n",
    "\n",
    "\n",
    "bronze_customer_birth_date[bronze_customer_birth_date['BDATE'].isnull()]\n",
    "bronze_customer_birth_date['BDATE'].fillna(0000-00-00,inplace=True)\n",
    "\n",
    "\n",
    "# RENAMING COLUMNS \n",
    "\n",
    "\n",
    "silver_customer_birth_date = bronze_customer_birth_date.rename(\n",
    "    columns={'CID':'customer_id','BDATE':'birthdate','GEN':'gender'}.copy()\n",
    "    \n",
    ")\n",
    "\n",
    "# ------------------ CLEAN ------------------------- #\n",
    "#CONVERT INTO CSV FILES ------------\n",
    "#silver_customer_birth_date.to_csv('silver_erp_customer_birthdate.csv', index=False)\n",
    "silver_customer_birth_date"
   ]
  },
  {
   "cell_type": "code",
   "execution_count": null,
   "id": "84d9803e-c163-44c3-bfeb-981245eefe78",
   "metadata": {},
   "outputs": [],
   "source": [
    "# ------------------------- DATA TRANSFORMATION ( bronze_customer_location) ---------------------------- #\n",
    "\n",
    "# fillna values\n",
    "bronze_customer_location.fillna(\"N/A\",inplace=True)\n",
    "\n",
    "# CREATE  COMPLETE CUSTOMER ID WITHOUT \" - \" \n",
    "bronze_customer_location['customer_id']  = bronze_customer_location['CID'].str.replace('-','')\n",
    "# RENAMING COLUMNS\n",
    "silver_customer_location = bronze_customer_location.rename(columns={'CID':'cid','CNTRY':'country'}).copy()\n",
    "\n",
    "\n",
    "#------------ CLEAN -----------------#\n",
    "#CONVERT INTO CSV FILES ------------\n",
    "#silver_customer_location.to_csv('silver_erp_customer_location.csv', index=False)\n",
    "silver_customer_location "
   ]
  },
  {
   "cell_type": "code",
   "execution_count": null,
   "id": "e4f423dd-2cc6-4b81-b1b1-099235a4dd83",
   "metadata": {},
   "outputs": [],
   "source": [
    "# ------------------------- DATA TRANSFORMATION ( bronze_product_category) ---------------------------- #\n",
    "bronze_product_category\n",
    "\n",
    "# REMOVE UNWANTED SPACES \n",
    "bronze_product_category['ID'] = bronze_product_category['ID'].str.lstrip(\" \")\n",
    "bronze_product_category['ID'] = bronze_product_category['ID'].str.rstrip(\" \")\n",
    "bronze_product_category['SUBCAT'] = bronze_product_category['SUBCAT'].str.lstrip(\" \")\n",
    "bronze_product_category['SUBCAT'] = bronze_product_category['SUBCAT'].str.rstrip(\" \")\n",
    "bronze_product_category['SUBCAT'][bronze_product_category['SUBCAT'].str.contains(\" \")]\n",
    "\n",
    "\n",
    "#RENAMING COLUMNS\n",
    "silver_product_category = bronze_product_category.rename(\n",
    "    columns={\"ID\":'product_id', \"CAT\":\"product_category\",\"SUBCAT\":\"product_sub_category\",\"MAINTENANCE\":\"product_maintenance\"}\n",
    ").copy()\n",
    "\n",
    "\n",
    "\n",
    "# ------------ CLEAN -------------------#\n",
    "\n",
    "\n",
    "#CONVERT INTO CSV FILES ------------\n",
    "#silver_product_category.to_csv('silver_erp_product_category.csv', index=False)"
   ]
  },
  {
   "cell_type": "code",
   "execution_count": null,
   "id": "ad83ad5d-ec92-43d5-900a-1f3119cd399e",
   "metadata": {},
   "outputs": [],
   "source": [
    "\n",
    "\n",
    "    "
   ]
  },
  {
   "cell_type": "code",
   "execution_count": null,
   "id": "d1c48728-1dff-4cd6-ad6a-ef3784ae18e6",
   "metadata": {},
   "outputs": [],
   "source": []
  },
  {
   "cell_type": "code",
   "execution_count": null,
   "id": "3832ebb1-d59c-41cc-8e7d-8d1ce5feb0c2",
   "metadata": {},
   "outputs": [],
   "source": []
  }
 ],
 "metadata": {
  "kernelspec": {
   "display_name": "Python 3 (ipykernel)",
   "language": "python",
   "name": "python3"
  },
  "language_info": {
   "codemirror_mode": {
    "name": "ipython",
    "version": 3
   },
   "file_extension": ".py",
   "mimetype": "text/x-python",
   "name": "python",
   "nbconvert_exporter": "python",
   "pygments_lexer": "ipython3",
   "version": "3.12.4"
  }
 },
 "nbformat": 4,
 "nbformat_minor": 5
}
