{
 "cells": [
  {
   "cell_type": "code",
   "execution_count": 4,
   "id": "0252f665-3303-4518-af0e-da36b3421bcb",
   "metadata": {},
   "outputs": [],
   "source": [
    "import pandas as pd \n",
    "import warnings\n",
    "warnings.simplefilter(action='ignore', category=FutureWarning)"
   ]
  },
  {
   "cell_type": "code",
   "execution_count": 18,
   "id": "ca3ebf4f-aeee-473d-b36a-179531ae8f36",
   "metadata": {},
   "outputs": [],
   "source": [
    "#------------------ BRONZE LEVEL ------------------------#\n",
    "\n",
    "# RAW DATA TO DATA FRAME ( THIS FILES FROM ERP DATASETS )\n",
    "\n",
    "# CUSTOMER EXTRA INFORMATION ( BIRTH_DATE )\n",
    "bronze_customer_birth_date = pd.read_csv('datasets/source_erp/CUST_AZ12.csv')\n",
    "#bronze_customer_birth_date\n",
    "\n",
    " CUSTOMER EXTRA INFORMATION ( LOCATION )\n",
    "\n",
    "bronze_customer_location = pd.read_csv('datasets/source_erp/LOC_A101.csv')\n",
    "\n",
    " PRODUCT CATEGORY\n",
    "\n",
    "bronze_product_category = pd.read_csv('datasets/source_erp/PX_CAT_G1V2.csv')\n",
    "\n",
    "bronze_product_category \n",
    "\n",
    "# ---------- BRONZE LEVEL DONE ---------------- #"
   ]
  },
  {
   "cell_type": "markdown",
   "id": "08e1e442-4a43-472c-b2af-b4511c4e1d19",
   "metadata": {},
   "source": [
    "DATA TRANSFORMATION\n",
    "- DATA CLEANING\n",
    "- REMOVE AND REPLACE ALL NULL VALUES\n",
    "- MODIFY COLUMNS NAME ( FOR READABLITY )\n",
    "- READY THE DATA INTO SILVER LEVEL\n",
    "  "
   ]
  },
  {
   "cell_type": "code",
   "execution_count": null,
   "id": "4c8b4443-0e63-4d56-8426-880be4b7157b",
   "metadata": {},
   "outputs": [],
   "source": [
    "# ------------------------- DATA TRANSFORMATION ( bronze_customer_birth_date ) ---------------------------- #\n",
    "bronze_customer_birth_date.dtypes\n",
    "# CID      object\n",
    "# BDATE    object\n",
    "# GEN      object\n",
    "# dtype: object\n",
    "\n",
    "\n",
    "# FILL NAN VALUES AND REPLACE INTO 'N/A' VALUES\n",
    "bronze_customer_birth_date.fillna('N/A',inplace=True)\n",
    "\n",
    "\n",
    "# CONVERT BDATE TO DATETIME DATA TYPES\n",
    "bronze_customer_birth_date['BDATE'] = pd.to_datetime(bronze_customer_birth_date['BDATE'],errors='coerce')\n",
    "bronze_customer_birth_date[bronze_customer_birth_date['BDATE'].isnull()]\n",
    "\n",
    "\n",
    "bronze_customer_birth_date[bronze_customer_birth_date['BDATE'].isnull()]\n",
    "bronze_customer_birth_date['BDATE'].fillna(0000-00-00,inplace=True)\n",
    "\n",
    "\n",
    "# RENAMING COLUMNS \n",
    "\n",
    "\n",
    "silver_customer_birth_date = bronze_customer_birth_date.rename(\n",
    "    columns={'CID':'customer_id','BDATE':'birthdate','GEN':'gender'}.copy()\n",
    "    \n",
    ")\n",
    "\n",
    "# ------------------ CLEAN ------------------------- #\n",
    "#CONVERT INTO CSV FILES ------------\n",
    "#silver_customer_birth_date.to_csv('silver_erp_customer_birthdate.csv', index=False)\n",
    "silver_customer_birth_date"
   ]
  },
  {
   "cell_type": "code",
   "execution_count": null,
   "id": "84d9803e-c163-44c3-bfeb-981245eefe78",
   "metadata": {},
   "outputs": [],
   "source": [
    "# ------------------------- DATA TRANSFORMATION ( bronze_customer_location) ---------------------------- #\n",
    "\n",
    "# fillna values\n",
    "bronze_customer_location.fillna(\"N/A\",inplace=True)\n",
    "\n",
    "# CREATE  COMPLETE CUSTOMER ID WITHOUT \" - \" \n",
    "bronze_customer_location['customer_id']  = bronze_customer_location['CID'].str.replace('-','')\n",
    "# RENAMING COLUMNS\n",
    "silver_customer_location = bronze_customer_location.rename(columns={'CID':'cid','CNTRY':'country'}).copy()\n",
    "\n",
    "\n",
    "#------------ CLEAN -----------------#\n",
    "#CONVERT INTO CSV FILES ------------\n",
    "#silver_customer_location.to_csv('silver_erp_customer_location.csv', index=False)\n",
    "silver_customer_location "
   ]
  },
  {
   "cell_type": "code",
   "execution_count": null,
   "id": "e4f423dd-2cc6-4b81-b1b1-099235a4dd83",
   "metadata": {},
   "outputs": [],
   "source": [
    "# ------------------------- DATA TRANSFORMATION ( bronze_product_category) ---------------------------- #\n",
    "bronze_product_category\n",
    "\n",
    "# REMOVE UNWANTED SPACES \n",
    "bronze_product_category['ID'] = bronze_product_category['ID'].str.lstrip(\" \")\n",
    "bronze_product_category['ID'] = bronze_product_category['ID'].str.rstrip(\" \")\n",
    "bronze_product_category['SUBCAT'] = bronze_product_category['SUBCAT'].str.lstrip(\" \")\n",
    "bronze_product_category['SUBCAT'] = bronze_product_category['SUBCAT'].str.rstrip(\" \")\n",
    "bronze_product_category['SUBCAT'][bronze_product_category['SUBCAT'].str.contains(\" \")]\n",
    "\n",
    "\n",
    "#RENAMING COLUMNS\n",
    "silver_product_category = bronze_product_category.rename(\n",
    "    columns={\"ID\":'product_id', \"CAT\":\"product_category\",\"SUBCAT\":\"product_sub_category\",\"MAINTENANCE\":\"product_maintenance\"}\n",
    ").copy()\n",
    "\n",
    "\n",
    "\n",
    "# ------------ CLEAN -------------------#\n",
    "\n",
    "\n",
    "#CONVERT INTO CSV FILES ------------\n",
    "#silver_product_category.to_csv('silver_erp_product_category.csv', index=False)"
   ]
  },
  {
   "cell_type": "code",
   "execution_count": null,
   "id": "ad83ad5d-ec92-43d5-900a-1f3119cd399e",
   "metadata": {},
   "outputs": [],
   "source": [
    "\n",
    "\n",
    "    "
   ]
  },
  {
   "cell_type": "code",
   "execution_count": null,
   "id": "d1c48728-1dff-4cd6-ad6a-ef3784ae18e6",
   "metadata": {},
   "outputs": [],
   "source": []
  },
  {
   "cell_type": "code",
   "execution_count": null,
   "id": "3832ebb1-d59c-41cc-8e7d-8d1ce5feb0c2",
   "metadata": {},
   "outputs": [],
   "source": []
  }
 ],
 "metadata": {
  "kernelspec": {
   "display_name": "Python 3 (ipykernel)",
   "language": "python",
   "name": "python3"
  },
  "language_info": {
   "codemirror_mode": {
    "name": "ipython",
    "version": 3
   },
   "file_extension": ".py",
   "mimetype": "text/x-python",
   "name": "python",
   "nbconvert_exporter": "python",
   "pygments_lexer": "ipython3",
   "version": "3.12.4"
  }
 },
 "nbformat": 4,
 "nbformat_minor": 5
}
